{
 "cells": [
  {
   "cell_type": "code",
   "execution_count": 25,
   "id": "0a6e70d9-3522-4ada-9c0d-262d5852d78d",
   "metadata": {},
   "outputs": [],
   "source": [
    "import sqlite3\n",
    "from sqlite3 import Error"
   ]
  },
  {
   "cell_type": "code",
   "execution_count": 26,
   "id": "dd1ddff5-aab0-43ec-aecb-0f8d9efd4ebd",
   "metadata": {},
   "outputs": [],
   "source": [
    "def sqlite3_connect(db_file):\n",
    "    \"\"\"Establish connection with local database\"\"\"\n",
    "    \n",
    "    conn = None\n",
    "    try:\n",
    "        conn = sqlite3.connect(db_file)\n",
    "        print(sqlite3.version)\n",
    "    except Error as e:\n",
    "        print(e)\n",
    "        \n",
    "    return conn"
   ]
  },
  {
   "cell_type": "code",
   "execution_count": 27,
   "id": "de4bb695-c4fa-4656-b11e-3ef956b7abca",
   "metadata": {},
   "outputs": [],
   "source": [
    "def sqlite3_table(conn, table_query):\n",
    "    \"\"\"Create a table from xyz statement\"\"\"\n",
    "    \n",
    "    try:\n",
    "        c = conn.cursor()\n",
    "        c.execute(table_query)\n",
    "    except Error as e:\n",
    "        print(e)"
   ]
  },
  {
   "cell_type": "code",
   "execution_count": 28,
   "id": "1d9b5b1a-c407-4392-a080-140040799d19",
   "metadata": {},
   "outputs": [],
   "source": [
    "def sqlite3_inject():\n",
    "    \"\"\"Inject data to the database\"\"\"\n",
    "    \n",
    "    pass"
   ]
  },
  {
   "cell_type": "code",
   "execution_count": 29,
   "id": "69b2897f-25af-41e1-825c-08373697f2ed",
   "metadata": {},
   "outputs": [],
   "source": [
    "def sqlite3_query():\n",
    "    \"\"\"Send a query to the database\"\"\"\n",
    "    \n",
    "    pass"
   ]
  },
  {
   "cell_type": "code",
   "execution_count": 30,
   "id": "be810c21-a4be-47e6-a487-68e0abcc9af3",
   "metadata": {},
   "outputs": [],
   "source": [
    "def main():\n",
    "    \"\"\" \"\"\"\n",
    "    \n",
    "    database = r\"otodom.db\"\n",
    "    \n",
    "    sql_ads_table = \"\"\"CREATE TABLE IF NOT EXISTS ads (\n",
    "                           user_id integer,\n",
    "                           ad_id integer,\n",
    "                           category_id integer,\n",
    "                           params text NOT NULL,\n",
    "                           date text NOT NULL,\n",
    "                           PRIMARY KEY (user_id, ad_id, category_id),\n",
    "                           FOREIGN KEY (user_id) \n",
    "                               REFERENCES replies (user_id),\n",
    "                           FOREIGN KEY (user_id) \n",
    "                               REFERENCES segments (user_id),\n",
    "                           FOREIGN KEY (category_id)\n",
    "                               REFERENCES categories (category_id)\n",
    "                           );\"\"\"\n",
    "    \n",
    "    sql_replies_table = \"\"\"CREATE TABLE IF NOT EXISTS replies (\n",
    "                               user_id integer,\n",
    "                               ad_id integer,\n",
    "                               mails integer NOT NULL,\n",
    "                               phones integer NOT NULL,\n",
    "                               date text NOT NULL,\n",
    "                               PRIMARY KEY (user_id, ad_id)\n",
    "                               );\"\"\"\n",
    "    \n",
    "    sql_segments_table = \"\"\"CREATE TABLE IF NOT EXISTS segments (\n",
    "                                user_id integer PRIMARY KEY,\n",
    "                                segment text NOT NULL\n",
    "                                );\"\"\"\n",
    "    \n",
    "    sql_categories_table = \"\"\"CREATE TABLE IF NOT EXISTS categories (\n",
    "                                  category_id integer PRIMARY KEY,\n",
    "                                  category_name text NOT NULL\n",
    "                                  );\"\"\"\n",
    "    \n",
    "    conn = sqlite3_connect(database)\n",
    "    \n",
    "    if conn is not None:\n",
    "        sqlite3_table(conn, sql_ads_table)\n",
    "        sqlite3_table(conn, sql_categories_table)\n",
    "        sqlite3_table(conn, sql_replies_table)\n",
    "        sqlite3_table(conn, sql_segments_table)\n",
    "    else:\n",
    "        print(\"Error! cannot create the database connection.\")"
   ]
  },
  {
   "cell_type": "code",
   "execution_count": 31,
   "id": "55421a97-df10-43ef-8249-d7afa840fafb",
   "metadata": {},
   "outputs": [
    {
     "name": "stdout",
     "output_type": "stream",
     "text": [
      "2.6.0\n"
     ]
    }
   ],
   "source": [
    "if __name__ == '__main__':\n",
    "    main()"
   ]
  }
 ],
 "metadata": {
  "kernelspec": {
   "display_name": "Python [conda env:olx_otodom] *",
   "language": "python",
   "name": "conda-env-olx_otodom-py"
  },
  "language_info": {
   "codemirror_mode": {
    "name": "ipython",
    "version": 3
   },
   "file_extension": ".py",
   "mimetype": "text/x-python",
   "name": "python",
   "nbconvert_exporter": "python",
   "pygments_lexer": "ipython3",
   "version": "3.8.5"
  }
 },
 "nbformat": 4,
 "nbformat_minor": 5
}
