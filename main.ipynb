{
 "cells": [
  {
   "cell_type": "code",
   "execution_count": 19,
   "id": "568bd61d-5509-4c55-8c9f-7e3366264e5b",
   "metadata": {},
   "outputs": [],
   "source": [
    "import sqlite3\n",
    "from sqlite3 import Error\n",
    "\n",
    "import numpy as np\n",
    "import pandas as pd\n",
    "import seaborn as sns\n",
    "import matplotlib.pyplot as plt"
   ]
  },
  {
   "cell_type": "code",
   "execution_count": 20,
   "id": "370ffbc8-7736-413b-8834-8856cedbcb8c",
   "metadata": {},
   "outputs": [],
   "source": [
    "def load_otodom():\n",
    "    \"\"\"Load csv files with defined column names\"\"\"\n",
    "    \n",
    "    data_ads_cols = [\"date\", \"user_id\", \"ad_id\", \"category_id\", \"params\"]\n",
    "    data_replies_cols = [\"date\", \"user_id\", \"ad_id\", \"mails\", \"phones\"]\n",
    "    data_segmentation_cols = [\"user_id\", \"segment\"]\n",
    "    data_categories_cols = [\"category_id\", \"category_name\"]\n",
    "\n",
    "    # here you can find information about the announcements\n",
    "    data_ads_df = pd.read_csv(\"data/data_ads.csv\", delimiter=\";\", names=data_ads_cols)\n",
    "    # information about the response per advertisement per day\n",
    "    data_replies_df = pd.read_csv(\"data/data_replies.csv\", delimiter=\";\", names=data_replies_cols)\n",
    "    # segmentation mapping for each user\n",
    "    data_segments_df = pd.read_csv(\"data/data_segments.csv\", delimiter=\";\", names=data_segmentation_cols)\n",
    "    # mapping to category tree\n",
    "    data_categories_df = pd.read_csv(\"data/data_categories.csv\", delimiter=\";\", names=data_categories_cols)\n",
    "    \n",
    "    return [data_ads_df, data_replies_df, data_segments_df, data_categories_df]"
   ]
  },
  {
   "cell_type": "code",
   "execution_count": 21,
   "id": "7b6d777b-f117-4a04-bbb0-0799ad788c86",
   "metadata": {},
   "outputs": [],
   "source": [
    "def check_dtypes(source):\n",
    "    \"\"\"Check columns type for each DataFrame\"\"\"\n",
    "    \n",
    "    print(\"Checking data types: \\n\")\n",
    "    \n",
    "    for df in source:\n",
    "        print (df.dtypes, \"\\n\")"
   ]
  },
  {
   "cell_type": "code",
   "execution_count": 22,
   "id": "e4806b67-a405-4ac8-9c21-928cbef79894",
   "metadata": {},
   "outputs": [],
   "source": [
    "def check_null(source):\n",
    "    \"\"\"Check columns for null values\"\"\"\n",
    "    \n",
    "    print(\"Checking nulls in data: \\n\")\n",
    "    \n",
    "    for df in source:\n",
    "        print(round(df.isnull().sum().sort_values(ascending=False)/len(df)*100, 2), \"\\n\")"
   ]
  },
  {
   "cell_type": "markdown",
   "id": "83b2a5c6-f646-45e7-85ca-2fbec8e83367",
   "metadata": {},
   "source": [
    "# SQL"
   ]
  },
  {
   "cell_type": "code",
   "execution_count": 23,
   "id": "0c2f5f8b-46a2-4181-884a-fe3c28d25082",
   "metadata": {},
   "outputs": [],
   "source": [
    "def sqlite3_connect(db_file):\n",
    "    \"\"\"Establish connection with local database\"\"\"\n",
    "    \n",
    "    conn = None\n",
    "    try:\n",
    "        conn = sqlite3.connect(db_file)\n",
    "        print(sqlite3.version)\n",
    "    except Error as e:\n",
    "        print(e)\n",
    "        \n",
    "    return conn"
   ]
  },
  {
   "cell_type": "code",
   "execution_count": 24,
   "id": "d22b7a57-a2be-4fce-a9ce-b1fdcf739e3c",
   "metadata": {},
   "outputs": [],
   "source": [
    "def sqlite3_insert(source, tables, connection):\n",
    "    \"\"\"Insert data to the database from DataFrames\"\"\"\n",
    "    \n",
    "    # [data_ads_df, data_replies_df, data_segments_df, data_categories_df]\n",
    "    indices = [0, 1, 2, 3]\n",
    "    \n",
    "    for i, tab in zip(indices, tables):\n",
    "        source[i].to_sql(tab, connection, if_exists='replace', index=False)\n"
   ]
  },
  {
   "cell_type": "code",
   "execution_count": 25,
   "id": "10dabcf9-a48b-407a-bbcc-cf81ec2c05aa",
   "metadata": {},
   "outputs": [],
   "source": [
    "def sqlite3_query(connection, query):\n",
    "    \"\"\"Create a table from table_query statement\"\"\"\n",
    "    \n",
    "    try:\n",
    "        connection.execute(query)\n",
    "    except Error as e:\n",
    "        print(e)"
   ]
  },
  {
   "cell_type": "code",
   "execution_count": 26,
   "id": "5243b75b-003a-4abe-9728-59eb35428391",
   "metadata": {},
   "outputs": [],
   "source": [
    "def sql_job(source):\n",
    "    \"\"\" \"\"\"\n",
    "    \n",
    "    database = r\"otodom.db\"\n",
    "    table_list = [\"ads\", \"replies\", \"segments\", \"categories\"]\n",
    "    \n",
    "    sql_my_query = \" \"\n",
    "    \n",
    "    conn = sqlite3_connect(database)\n",
    "    \n",
    "    if conn is not None:\n",
    "        sqlite3_insert(source=source, tables=table_list, connection=conn)\n",
    "        #sqlite3_query(connection=conn, query=sql_my_query)\n",
    "    else:\n",
    "        print(\"Error! cannot create the database connection.\")\n",
    "    "
   ]
  },
  {
   "cell_type": "markdown",
   "id": "99dca0a7-4d84-400f-8e3d-0033d58621e7",
   "metadata": {},
   "source": [
    "# LIQUIDITY"
   ]
  },
  {
   "cell_type": "code",
   "execution_count": 27,
   "id": "8c0dc425-38b5-4455-9e44-3945956cee13",
   "metadata": {},
   "outputs": [],
   "source": [
    "def liquidity_per_user():\n",
    "    \"\"\"\n",
    "    Liquidity will be understood as % of advertisements which have received \n",
    "    at least 1 response (by phone or e-mail) within a period of 7 days \n",
    "    (including day 0 - the day of adding an day of adding an ad)\n",
    "    \"\"\"\n",
    "    \n",
    "    pass"
   ]
  },
  {
   "cell_type": "code",
   "execution_count": 28,
   "id": "bce8d80e-2ea7-4ffe-8cd5-5cf79aaa44ab",
   "metadata": {},
   "outputs": [],
   "source": [
    "def full_data_analysis():\n",
    "    \"\"\" \n",
    "    Jupyter/R Markdown preferred for analysis\n",
    "\n",
    "    Scripts can be in separate files, or as part of a notebook depending on\n",
    "    selected methods\n",
    "\n",
    "    Please present your final results and most important conclusions in the \n",
    "    form of a presentation (e.g. Google slides)\n",
    "    \"\"\"\n",
    "    \n",
    "    pass"
   ]
  },
  {
   "cell_type": "code",
   "execution_count": 29,
   "id": "b6d17435-9c23-4336-8485-bd0b4b36e8d5",
   "metadata": {},
   "outputs": [],
   "source": [
    "def question_1():\n",
    "    \"\"\" \n",
    "    What differences do you see between the segments in terms of the data \n",
    "    you have available (including liquidity)?\n",
    "    \"\"\"\n",
    "    \n",
    "    pass"
   ]
  },
  {
   "cell_type": "code",
   "execution_count": 30,
   "id": "fa1420e8-58e7-4bba-b09c-d83e11f56002",
   "metadata": {},
   "outputs": [],
   "source": [
    "def question_2():\n",
    "    \"\"\"What do you think might influence higher or lower levels of liquidity?\"\"\"\n",
    "    \n",
    "    pass"
   ]
  },
  {
   "cell_type": "code",
   "execution_count": 31,
   "id": "b03ed3cc-4ef6-41b8-a465-e1f168a06583",
   "metadata": {},
   "outputs": [],
   "source": [
    "def main():\n",
    "    data = load_otodom()\n",
    "    \n",
    "    check_dtypes(source=data)\n",
    "    check_null(source=data)\n",
    "    \n",
    "    sql_job(source=data)"
   ]
  },
  {
   "cell_type": "code",
   "execution_count": 32,
   "id": "1f469aad-dd2d-419e-89d7-a76c89050590",
   "metadata": {},
   "outputs": [
    {
     "name": "stdout",
     "output_type": "stream",
     "text": [
      "Checking data types: \n",
      "\n",
      "date           object\n",
      "user_id         int64\n",
      "ad_id           int64\n",
      "category_id     int64\n",
      "params         object\n",
      "dtype: object \n",
      "\n",
      "date        object\n",
      "user_id      int64\n",
      "ad_id        int64\n",
      "mails        int64\n",
      "phones     float64\n",
      "dtype: object \n",
      "\n",
      "user_id     int64\n",
      "segment    object\n",
      "dtype: object \n",
      "\n",
      "category_id       int64\n",
      "category_name    object\n",
      "dtype: object \n",
      "\n",
      "Checking nulls in data: \n",
      "\n",
      "date           0.0\n",
      "user_id        0.0\n",
      "ad_id          0.0\n",
      "category_id    0.0\n",
      "params         0.0\n",
      "dtype: float64 \n",
      "\n",
      "phones     14.64\n",
      "date        0.00\n",
      "user_id     0.00\n",
      "ad_id       0.00\n",
      "mails       0.00\n",
      "dtype: float64 \n",
      "\n",
      "user_id    0.0\n",
      "segment    0.0\n",
      "dtype: float64 \n",
      "\n",
      "category_id      0.0\n",
      "category_name    0.0\n",
      "dtype: float64 \n",
      "\n",
      "2.6.0\n"
     ]
    }
   ],
   "source": [
    "if __name__ == '__main__':\n",
    "    main()"
   ]
  }
 ],
 "metadata": {
  "kernelspec": {
   "display_name": "Python [conda env:olx_otodom] *",
   "language": "python",
   "name": "conda-env-olx_otodom-py"
  },
  "language_info": {
   "codemirror_mode": {
    "name": "ipython",
    "version": 3
   },
   "file_extension": ".py",
   "mimetype": "text/x-python",
   "name": "python",
   "nbconvert_exporter": "python",
   "pygments_lexer": "ipython3",
   "version": "3.8.5"
  }
 },
 "nbformat": 4,
 "nbformat_minor": 5
}
